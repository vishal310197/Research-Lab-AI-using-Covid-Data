{
 "cells": [
  {
   "cell_type": "code",
   "execution_count": 32,
   "id": "fe30310f",
   "metadata": {},
   "outputs": [],
   "source": [
    "#importing libraries\n",
    "import pandas as pd\n",
    "import numpy as np\n",
    "import matplotlib.pyplot as plt\n",
    "import seaborn as sns\n",
    "import sklearn.decomposition\n",
    "from sklearn.cluster import KMeans\n",
    "from sklearn.cluster import AgglomerativeClustering\n",
    "from sklearn import metrics"
   ]
  },
  {
   "cell_type": "code",
   "execution_count": 33,
   "id": "ef595496",
   "metadata": {},
   "outputs": [],
   "source": [
    "#loading dataset\n",
    "exceldata = pd.read_excel('Daily data.xlsx')\n",
    "exceldata.to_csv ('daily.csv', index = None, header=True)\n",
    "data = pd.read_csv('daily.csv',header=[0, 1,2], index_col=[0])\n",
    "#data cleaning\n",
    "data = data.iloc[: , :-3]\n",
    "data = data.iloc[:-1,:]"
   ]
  },
  {
   "cell_type": "code",
   "execution_count": 34,
   "id": "e974eb63",
   "metadata": {},
   "outputs": [],
   "source": [
    "#feature scaling\n",
    "df_min_max_scaled = data.astype(float)\n",
    "for column in df_min_max_scaled.columns:\n",
    "    df_min_max_scaled[column] = (df_min_max_scaled[column] - df_min_max_scaled[column].min()) / (df_min_max_scaled[column].max() - df_min_max_scaled[column].min())"
   ]
  },
  {
   "cell_type": "code",
   "execution_count": 35,
   "id": "67614f00",
   "metadata": {},
   "outputs": [
    {
     "name": "stdout",
     "output_type": "stream",
     "text": [
      "\n",
      "PCA 1: 52.57% of the variance\n",
      "PCA 2:  33.52% of the variance\n",
      "PCA 3:  4.51% of the variance\n",
      "PCA 4:  3.65% of the variance\n",
      "PCA 5:  2.39% of the variance\n",
      "PCA 6:  1.57% of the variance\n",
      "PCA 7:  0.74% of the variance\n",
      "PCA 8:  0.50% of the variance\n",
      "PCA 9:  0.33% of the variance\n",
      "PCA 10:  0.17% of the variance\n",
      "PCA 11:  0.05% of the variance\n",
      "PCA 12:  -0.00% of the variance\n",
      "PCA 13:  0.01% of the variance\n",
      "\n"
     ]
    }
   ],
   "source": [
    "#feature selection\n",
    "cov_mat = np.cov(df_min_max_scaled.transpose())\n",
    "eig_vals, eig_vecs = np.linalg.eig(cov_mat)\n",
    "print(\"\"\"\n",
    "PCA 1: {0:.2f}% of the variance\n",
    "PCA 2:  {1:.2f}% of the variance\n",
    "PCA 3:  {2:.2f}% of the variance\n",
    "PCA 4:  {3:.2f}% of the variance\n",
    "PCA 5:  {4:.2f}% of the variance\n",
    "PCA 6:  {5:.2f}% of the variance\n",
    "PCA 7:  {6:.2f}% of the variance\n",
    "PCA 8:  {7:.2f}% of the variance\n",
    "PCA 9:  {8:.2f}% of the variance\n",
    "PCA 10:  {9:.2f}% of the variance\n",
    "PCA 11:  {10:.2f}% of the variance\n",
    "PCA 12:  {11:.2f}% of the variance\n",
    "PCA 13:  {12:.2f}% of the variance\n",
    "\"\"\".format(*tuple(eig_vals / np.sum(eig_vals) * 100)))"
   ]
  },
  {
   "cell_type": "code",
   "execution_count": 47,
   "id": "ddccfba2",
   "metadata": {},
   "outputs": [
    {
     "data": {
      "text/html": [
       "<div>\n",
       "<style scoped>\n",
       "    .dataframe tbody tr th:only-of-type {\n",
       "        vertical-align: middle;\n",
       "    }\n",
       "\n",
       "    .dataframe tbody tr th {\n",
       "        vertical-align: top;\n",
       "    }\n",
       "\n",
       "    .dataframe thead th {\n",
       "        text-align: right;\n",
       "    }\n",
       "</style>\n",
       "<table border=\"1\" class=\"dataframe\">\n",
       "  <thead>\n",
       "    <tr style=\"text-align: right;\">\n",
       "      <th></th>\n",
       "      <th>PCA1</th>\n",
       "      <th>PCA2</th>\n",
       "      <th>PCA3</th>\n",
       "    </tr>\n",
       "  </thead>\n",
       "  <tbody>\n",
       "    <tr>\n",
       "      <th>Ahrweiler</th>\n",
       "      <td>-0.103381</td>\n",
       "      <td>-0.266256</td>\n",
       "      <td>-0.190461</td>\n",
       "    </tr>\n",
       "    <tr>\n",
       "      <th>Altenkirchen</th>\n",
       "      <td>0.177951</td>\n",
       "      <td>-0.038638</td>\n",
       "      <td>0.123866</td>\n",
       "    </tr>\n",
       "    <tr>\n",
       "      <th>Alzey-Worms</th>\n",
       "      <td>0.226158</td>\n",
       "      <td>-0.130798</td>\n",
       "      <td>0.472820</td>\n",
       "    </tr>\n",
       "    <tr>\n",
       "      <th>Bad Dürkheim</th>\n",
       "      <td>0.221548</td>\n",
       "      <td>0.106351</td>\n",
       "      <td>0.023302</td>\n",
       "    </tr>\n",
       "    <tr>\n",
       "      <th>Bad Kreuznach</th>\n",
       "      <td>0.774604</td>\n",
       "      <td>0.539808</td>\n",
       "      <td>-0.266919</td>\n",
       "    </tr>\n",
       "  </tbody>\n",
       "</table>\n",
       "</div>"
      ],
      "text/plain": [
       "                   PCA1      PCA2      PCA3\n",
       "Ahrweiler     -0.103381 -0.266256 -0.190461\n",
       "Altenkirchen   0.177951 -0.038638  0.123866\n",
       "Alzey-Worms    0.226158 -0.130798  0.472820\n",
       "Bad Dürkheim   0.221548  0.106351  0.023302\n",
       "Bad Kreuznach  0.774604  0.539808 -0.266919"
      ]
     },
     "execution_count": 47,
     "metadata": {},
     "output_type": "execute_result"
    }
   ],
   "source": [
    "sklearn_pca = sklearn.decomposition.PCA(n_components=3)\n",
    "sklearn_pca.fit(df_min_max_scaled[df_min_max_scaled.columns])\n",
    "df_3D = pd.DataFrame(sklearn_pca.transform(df_min_max_scaled[df_min_max_scaled.columns]),index=df_min_max_scaled.index,\n",
    "                     columns=['PCA1', 'PCA2','PCA3'])\n",
    "df_3D.head()"
   ]
  },
  {
   "cell_type": "code",
   "execution_count": 58,
   "id": "69b277af",
   "metadata": {},
   "outputs": [
    {
     "name": "stderr",
     "output_type": "stream",
     "text": [
      "C:\\Users\\admin\\anaconda3\\lib\\site-packages\\sklearn\\cluster\\_kmeans.py:881: UserWarning: KMeans is known to have a memory leak on Windows with MKL, when there are less chunks than available threads. You can avoid it by setting the environment variable OMP_NUM_THREADS=1.\n",
      "  warnings.warn(\n"
     ]
    },
    {
     "data": {
      "image/png": "[encoded data removed]",
      "text/plain": [
       "<Figure size 432x288 with 1 Axes>"
      ]
     },
     "metadata": {
      "needs_background": "light"
     },
     "output_type": "display_data"
    }
   ],
   "source": [
    "#Finding optimal number of cluster using elbow method\n",
    "Sum_of_squared_distances = []\n",
    "K = range(1,10)\n",
    "for num_clusters in K :\n",
    "    kmean = KMeans(n_clusters=num_clusters)\n",
    "    kmean.fit(df_3D)\n",
    "    Sum_of_squared_distances.append(kmean.inertia_)\n",
    "plt.plot(K,Sum_of_squared_distances,'bx-')\n",
    "plt.xlabel(\"Values of K\") \n",
    "plt.ylabel(\"Sum of squared distances/Inertia\") \n",
    "plt.title(\"Elbow Method For Optimal k\")\n",
    "plt.savefig('elbow.jpg')\n",
    "plt.show()"
   ]
  },
  {
   "cell_type": "code",
   "execution_count": 48,
   "id": "6fd3ae7a",
   "metadata": {},
   "outputs": [
    {
     "data": {
      "text/plain": [
       "array([0, 2, 2, 2, 2, 0, 0, 0, 1, 1, 2, 1, 0, 2, 2, 2, 0, 2, 2, 0, 1, 2,\n",
       "       1, 2, 0, 1, 0, 0, 2, 2, 0, 0, 0, 0, 0, 1])"
      ]
     },
     "execution_count": 48,
     "metadata": {},
     "output_type": "execute_result"
    }
   ],
   "source": [
    "#Kmeans\n",
    "kmeans = KMeans(n_clusters=3, random_state=0).fit(df_3D)\n",
    "kmeans.labels_"
   ]
  },
  {
   "cell_type": "code",
   "execution_count": 49,
   "id": "ea7f4c89",
   "metadata": {},
   "outputs": [
    {
     "data": {
      "text/plain": [
       "array([2, 0, 0, 0, 0, 2, 2, 2, 1, 1, 0, 0, 1, 0, 0, 0, 2, 0, 0, 2, 0, 0,\n",
       "       1, 0, 2, 0, 2, 2, 0, 0, 1, 1, 2, 2, 2, 1], dtype=int64)"
      ]
     },
     "execution_count": 49,
     "metadata": {},
     "output_type": "execute_result"
    }
   ],
   "source": [
    "#Aglomerative Heirarichal Clustering\n",
    "agclustering = AgglomerativeClustering(n_clusters=3).fit(df_3D)\n",
    "agclustering.labels_"
   ]
  },
  {
   "cell_type": "code",
   "execution_count": 51,
   "id": "0dd6770a",
   "metadata": {},
   "outputs": [
    {
     "name": "stdout",
     "output_type": "stream",
     "text": [
      "0.34207307007464416\n",
      "24.957592428614667\n",
      "0.8897896254651118\n"
     ]
    }
   ],
   "source": [
    "#Evaluation of kmeans\n",
    "kSil = metrics.silhouette_score(df_3D, kmeans.labels_)\n",
    "kCH = metrics.calinski_harabasz_score(df_3D, kmeans.labels_)\n",
    "kDB = metrics.davies_bouldin_score(df_3D, kmeans.labels_)\n",
    "print(kSil)\n",
    "print(kCH)\n",
    "print(kDB)"
   ]
  },
  {
   "cell_type": "code",
   "execution_count": 52,
   "id": "af6cef9d",
   "metadata": {},
   "outputs": [
    {
     "name": "stdout",
     "output_type": "stream",
     "text": [
      "0.27498468193653647\n",
      "18.957955931292666\n",
      "0.9458443524769296\n"
     ]
    }
   ],
   "source": [
    "#Evaluation of AHC\n",
    "agSil = metrics.silhouette_score(df_3D, agclustering.labels_)\n",
    "agCH = metrics.calinski_harabasz_score(df_3D, agclustering.labels_)\n",
    "agDB = metrics.davies_bouldin_score(df_3D, agclustering.labels_)\n",
    "print(agSil)\n",
    "print(agCH)\n",
    "print(agDB)"
   ]
  },
  {
   "cell_type": "code",
   "execution_count": 53,
   "id": "a1610067",
   "metadata": {},
   "outputs": [],
   "source": [
    "#Adding kmeans clusters to preprocessed data\n",
    "df_3D['Cluster'] = kmeans.labels_"
   ]
  },
  {
   "cell_type": "code",
   "execution_count": 59,
   "id": "e04b613d",
   "metadata": {},
   "outputs": [
    {
     "name": "stderr",
     "output_type": "stream",
     "text": [
      "C:\\Users\\admin\\anaconda3\\lib\\site-packages\\seaborn\\_decorators.py:36: FutureWarning: Pass the following variables as keyword args: x, y. From version 0.12, the only valid positional argument will be `data`, and passing other arguments without an explicit keyword will result in an error or misinterpretation.\n",
      "  warnings.warn(\n"
     ]
    },
    {
     "data": {
      "image/png": "[encoded data removed]",
      "text/plain": [
       "<Figure size 864x576 with 1 Axes>"
      ]
     },
     "metadata": {
      "needs_background": "light"
     },
     "output_type": "display_data"
    }
   ],
   "source": [
    "#Plotting PCAs against clusters\n",
    "plt.figure(figsize=(12, 8))\n",
    "sns.scatterplot(df_3D[\"PCA1\"], df_3D[\"PCA2\"], hue=df_3D['Cluster'], \n",
    "                palette=sns.color_palette('hls', 3))\n",
    "plt.title('KMeans with 3 Clusters')\n",
    "plt.savefig('clusters.jpg')\n",
    "plt.show()"
   ]
  },
  {
   "cell_type": "code",
   "execution_count": null,
   "id": "941c9178",
   "metadata": {},
   "outputs": [],
   "source": []
  }
 ],
 "metadata": {
  "kernelspec": {
   "display_name": "Python 3",
   "language": "python",
   "name": "python3"
  },
  "language_info": {
   "codemirror_mode": {
    "name": "ipython",
    "version": 3
   },
   "file_extension": ".py",
   "mimetype": "text/x-python",
   "name": "python",
   "nbconvert_exporter": "python",
   "pygments_lexer": "ipython3",
   "version": "3.8.8"
  }
 },
 "nbformat": 4,
 "nbformat_minor": 5
}
